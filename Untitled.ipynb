{
 "cells": [
  {
   "cell_type": "code",
   "execution_count": 1,
   "id": "a1d96d3f-7cc3-4740-b699-7644754484a7",
   "metadata": {},
   "outputs": [],
   "source": [
    "import os\n",
    "import django\n",
    "os.environ.setdefault('DJANGO_SETTINGS_MODULE', 'rest.settings')\n",
    "os.environ[\"DJANGO_ALLOW_ASYNC_UNSAFE\"] = \"true\"\n",
    "django.setup()"
   ]
  },
  {
   "cell_type": "code",
   "execution_count": 2,
   "id": "b36ae44c-8b15-44ad-be76-31c573cb5266",
   "metadata": {},
   "outputs": [],
   "source": [
    "from django.db.models import Sum, Avg, Min, Max, Count, Case, When, IntegerField, F"
   ]
  },
  {
   "cell_type": "code",
   "execution_count": 3,
   "id": "d9478d05-874c-44bb-8c01-8adf7624aeeb",
   "metadata": {},
   "outputs": [],
   "source": [
    "from assignment6.models import User,Post,Comment,Reaction, Group, Membership"
   ]
  },
  {
   "cell_type": "code",
   "execution_count": 4,
   "id": "bee43857-d961-4337-af4f-1d8965f1d6f8",
   "metadata": {},
   "outputs": [],
   "source": [
    "from assignment6.utils import reply_to_comment,get_total_reaction_count,get_reaction_metrics, get_reactions_to_post, get_post, get_user_posts, get_replies_for_comment"
   ]
  },
  {
   "cell_type": "code",
   "execution_count": null,
   "id": "f158d8ee-6cca-46f0-835d-995b518d6203",
   "metadata": {},
   "outputs": [],
   "source": []
  },
  {
   "cell_type": "code",
   "execution_count": 5,
   "id": "5a42228c-2779-4792-bd39-abf93d8ff6a7",
   "metadata": {},
   "outputs": [],
   "source": [
    "from fb_app.utils import create_group, add_member_to_group, is_user_in_group,  remove_member_from_group,get_posts_with_more_comments_than_reactions, make_member_as_admin, create_post, get_group_feed, get_user_posts,get_silent_group_members"
   ]
  },
  {
   "cell_type": "code",
   "execution_count": 6,
   "id": "523be66a-afc2-4e2e-bd2c-634a2690195e",
   "metadata": {},
   "outputs": [],
   "source": [
    "group = Group.objects.get(id=10)\n",
    "u1 = User.objects.get(id=1)\n"
   ]
  },
  {
   "cell_type": "code",
   "execution_count": 7,
   "id": "c2007a63-dc7e-41f8-8102-59e13829c4d7",
   "metadata": {},
   "outputs": [
    {
     "data": {
      "text/plain": [
       "<QuerySet [<Membership: Membership object (1)>]>"
      ]
     },
     "execution_count": 7,
     "metadata": {},
     "output_type": "execute_result"
    }
   ],
   "source": [
    "Membership.objects.filter(group=group, member=u1)"
   ]
  },
  {
   "cell_type": "code",
   "execution_count": 8,
   "id": "1d55ff75-53e7-420b-812d-e8576c76b41d",
   "metadata": {},
   "outputs": [],
   "source": [
    "# create_post(3,\"This my 1st post in  my group 10\", 10)"
   ]
  },
  {
   "cell_type": "code",
   "execution_count": 9,
   "id": "373b8547-eefa-4c73-9f87-8458cf422506",
   "metadata": {},
   "outputs": [
    {
     "name": "stdout",
     "output_type": "stream",
     "text": [
      "Group object (10) [{'id': 16}, {'id': 7}, {'id': 8}, {'id': 9}, {'id': 10}, {'id': 11}, {'id': 12}, {'id': 13}, {'id': 14}, {'id': 15}]\n"
     ]
    },
    {
     "data": {
      "text/plain": [
       "[{'post_id': 16,\n",
       "  'group': {'group_id': 10, 'group_name': 'Group 2'},\n",
       "  'posted_by': {'user_id': 3,\n",
       "   'name': 'User3',\n",
       "   'profile_pic': 'http://user.com/user3'},\n",
       "  'posted_at': datetime.date(2023, 8, 26),\n",
       "  'post_content': 'This my 1st post in  my group 10',\n",
       "  'reactions': {'count': 0, 'reactions': []},\n",
       "  'comments': []},\n",
       " {'post_id': 7,\n",
       "  'group': {'group_id': 10, 'group_name': 'Group 2'},\n",
       "  'posted_by': {'user_id': 2,\n",
       "   'name': 'User2',\n",
       "   'profile_pic': 'http://user.com/user2'},\n",
       "  'posted_at': datetime.date(2023, 8, 25),\n",
       "  'post_content': 'This post in my group',\n",
       "  'reactions': {'count': 0, 'reactions': []},\n",
       "  'comments': []},\n",
       " {'post_id': 8,\n",
       "  'group': {'group_id': 10, 'group_name': 'Group 2'},\n",
       "  'posted_by': {'user_id': 2,\n",
       "   'name': 'User2',\n",
       "   'profile_pic': 'http://user.com/user2'},\n",
       "  'posted_at': datetime.date(2023, 8, 25),\n",
       "  'post_content': 'This my 2nd post in  my group',\n",
       "  'reactions': {'count': 0, 'reactions': []},\n",
       "  'comments': []},\n",
       " {'post_id': 9,\n",
       "  'group': {'group_id': 10, 'group_name': 'Group 2'},\n",
       "  'posted_by': {'user_id': 2,\n",
       "   'name': 'User2',\n",
       "   'profile_pic': 'http://user.com/user2'},\n",
       "  'posted_at': datetime.date(2023, 8, 25),\n",
       "  'post_content': 'This my 2nd post in  my group',\n",
       "  'reactions': {'count': 0, 'reactions': []},\n",
       "  'comments': []},\n",
       " {'post_id': 10,\n",
       "  'group': {'group_id': 10, 'group_name': 'Group 2'},\n",
       "  'posted_by': {'user_id': 2,\n",
       "   'name': 'User2',\n",
       "   'profile_pic': 'http://user.com/user2'},\n",
       "  'posted_at': datetime.date(2023, 8, 25),\n",
       "  'post_content': 'This my 2nd post in  my group',\n",
       "  'reactions': {'count': 0, 'reactions': []},\n",
       "  'comments': []},\n",
       " {'post_id': 11,\n",
       "  'group': {'group_id': 10, 'group_name': 'Group 2'},\n",
       "  'posted_by': {'user_id': 2,\n",
       "   'name': 'User2',\n",
       "   'profile_pic': 'http://user.com/user2'},\n",
       "  'posted_at': datetime.date(2023, 8, 25),\n",
       "  'post_content': 'This my 2nd post in  my group',\n",
       "  'reactions': {'count': 0, 'reactions': []},\n",
       "  'comments': []},\n",
       " {'post_id': 12,\n",
       "  'group': {'group_id': 10, 'group_name': 'Group 2'},\n",
       "  'posted_by': {'user_id': 2,\n",
       "   'name': 'User2',\n",
       "   'profile_pic': 'http://user.com/user2'},\n",
       "  'posted_at': datetime.date(2023, 8, 25),\n",
       "  'post_content': 'This my 2nd post in  my group',\n",
       "  'reactions': {'count': 0, 'reactions': []},\n",
       "  'comments': []},\n",
       " {'post_id': 13,\n",
       "  'group': {'group_id': 10, 'group_name': 'Group 2'},\n",
       "  'posted_by': {'user_id': 2,\n",
       "   'name': 'User2',\n",
       "   'profile_pic': 'http://user.com/user2'},\n",
       "  'posted_at': datetime.date(2023, 8, 26),\n",
       "  'post_content': 'This my 2nd post in  my group',\n",
       "  'reactions': {'count': 0, 'reactions': []},\n",
       "  'comments': []},\n",
       " {'post_id': 14,\n",
       "  'group': {'group_id': 10, 'group_name': 'Group 2'},\n",
       "  'posted_by': {'user_id': 2,\n",
       "   'name': 'User2',\n",
       "   'profile_pic': 'http://user.com/user2'},\n",
       "  'posted_at': datetime.date(2023, 8, 26),\n",
       "  'post_content': 'This my 2nd post in  my group',\n",
       "  'reactions': {'count': 0, 'reactions': []},\n",
       "  'comments': []},\n",
       " {'post_id': 15,\n",
       "  'group': {'group_id': 10, 'group_name': 'Group 2'},\n",
       "  'posted_by': {'user_id': 2,\n",
       "   'name': 'User2',\n",
       "   'profile_pic': 'http://user.com/user2'},\n",
       "  'posted_at': datetime.date(2023, 8, 26),\n",
       "  'post_content': 'This my 2nd post in  my group',\n",
       "  'reactions': {'count': 0, 'reactions': []},\n",
       "  'comments': []}]"
      ]
     },
     "execution_count": 9,
     "metadata": {},
     "output_type": "execute_result"
    }
   ],
   "source": [
    "get_group_feed(2,10,0,10)"
   ]
  },
  {
   "cell_type": "code",
   "execution_count": 10,
   "id": "37236bd6-f896-4152-80ae-48ae2f14f6b6",
   "metadata": {},
   "outputs": [
    {
     "data": {
      "text/plain": [
       "<QuerySet [(16,), (7,), (8,), (9,), (10,), (11,), (12,), (13,), (14,), (15,)]>"
      ]
     },
     "execution_count": 10,
     "metadata": {},
     "output_type": "execute_result"
    }
   ],
   "source": [
    "Post.objects.values_list('id').filter(group=group).order_by('-posted_by')"
   ]
  },
  {
   "cell_type": "code",
   "execution_count": 11,
   "id": "187ebebe-21fa-405d-b6cb-3f2391adb1c9",
   "metadata": {},
   "outputs": [
    {
     "name": "stdout",
     "output_type": "stream",
     "text": [
      "<QuerySet [5]>\n"
     ]
    }
   ],
   "source": [
    "posts = Post.objects.annotate(\n",
    "        comment_count=Count('comment'),\n",
    "        reaction_count=Count('reaction')\n",
    "    ).filter(comment_count__gt=F('reaction_count'))\n",
    "\n",
    "post_ids = posts.values_list('id', flat=True)\n",
    "print(post_ids)"
   ]
  },
  {
   "cell_type": "code",
   "execution_count": 12,
   "id": "8fe0e3cf-53bc-4487-89cf-b145cabe1cfa",
   "metadata": {},
   "outputs": [
    {
     "data": {
      "text/plain": [
       "[{'post_id': 5,\n",
       "  'group': 'None',\n",
       "  'posted_by': {'user_id': 1,\n",
       "   'name': 'User1',\n",
       "   'profile_pic': 'http://user.com/user1'},\n",
       "  'posted_at': datetime.date(2023, 8, 25),\n",
       "  'post_content': 'Today is my bday',\n",
       "  'reactions': {'count': 0, 'reactions': []},\n",
       "  'comments': [{'commented_id': 2,\n",
       "    'commenter': {'user_id': 2,\n",
       "     'name': 'User2',\n",
       "     'profile_pic': 'http://user.com/user2'},\n",
       "    'commented_at': datetime.date(2023, 8, 25),\n",
       "    'comment_content': 'Hey happy bday to you.',\n",
       "    'reactions': {'count': 1, 'reactions': ['LOVE']},\n",
       "    'replies': [{'commented_id': 1,\n",
       "      'commenter': {'user_id': 1,\n",
       "       'name': 'User1',\n",
       "       'profile_pic': 'http://user.com/user1'},\n",
       "      'commented_at': datetime.date(2023, 8, 25),\n",
       "      'comment_content': 'Hey ,Thanks',\n",
       "      'reactions': {'count': 0, 'reactions': []}}]}]},\n",
       " {'post_id': 6,\n",
       "  'group': 'None',\n",
       "  'posted_by': {'user_id': 1,\n",
       "   'name': 'User1',\n",
       "   'profile_pic': 'http://user.com/user1'},\n",
       "  'posted_at': datetime.date(2023, 8, 25),\n",
       "  'post_content': 'I am at AMB cinemas',\n",
       "  'reactions': {'count': 0, 'reactions': []},\n",
       "  'comments': []}]"
      ]
     },
     "execution_count": 12,
     "metadata": {},
     "output_type": "execute_result"
    }
   ],
   "source": [
    "get_user_posts(1)"
   ]
  },
  {
   "cell_type": "code",
   "execution_count": 13,
   "id": "1e444722-4c11-490a-8d17-2e17e0b9cfee",
   "metadata": {},
   "outputs": [
    {
     "data": {
      "text/plain": [
       "[1, 4]"
      ]
     },
     "execution_count": 13,
     "metadata": {},
     "output_type": "execute_result"
    }
   ],
   "source": [
    "get_silent_group_members(10)"
   ]
  },
  {
   "cell_type": "code",
   "execution_count": 14,
   "id": "8f2de326-bbcd-4cfc-b8d9-0a934bd1672e",
   "metadata": {},
   "outputs": [
    {
     "data": {
      "text/plain": [
       "[5]"
      ]
     },
     "execution_count": 14,
     "metadata": {},
     "output_type": "execute_result"
    }
   ],
   "source": [
    "get_posts_with_more_comments_than_reactions()"
   ]
  }
 ],
 "metadata": {
  "kernelspec": {
   "display_name": "Python 3 (ipykernel)",
   "language": "python",
   "name": "python3"
  },
  "language_info": {
   "codemirror_mode": {
    "name": "ipython",
    "version": 3
   },
   "file_extension": ".py",
   "mimetype": "text/x-python",
   "name": "python",
   "nbconvert_exporter": "python",
   "pygments_lexer": "ipython3",
   "version": "3.10.12"
  }
 },
 "nbformat": 4,
 "nbformat_minor": 5
}
